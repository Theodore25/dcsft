{
 "cells": [
  {
   "cell_type": "markdown",
   "metadata": {},
   "source": [
    "##### 2-Dimensional Strip Packing"
   ]
  },
  {
   "cell_type": "code",
   "execution_count": 1,
   "metadata": {},
   "outputs": [],
   "source": [
    "import numpy as np\n",
    "import pandas as pd\n",
    "import matplotlib.pyplot as plt"
   ]
  },
  {
   "cell_type": "code",
   "execution_count": 2,
   "metadata": {},
   "outputs": [
    {
     "data": {
      "text/html": [
       "<div>\n",
       "<style scoped>\n",
       "    .dataframe tbody tr th:only-of-type {\n",
       "        vertical-align: middle;\n",
       "    }\n",
       "\n",
       "    .dataframe tbody tr th {\n",
       "        vertical-align: top;\n",
       "    }\n",
       "\n",
       "    .dataframe thead th {\n",
       "        text-align: right;\n",
       "    }\n",
       "</style>\n",
       "<table border=\"1\" class=\"dataframe\">\n",
       "  <thead>\n",
       "    <tr style=\"text-align: right;\">\n",
       "      <th></th>\n",
       "      <th>0</th>\n",
       "      <th>1</th>\n",
       "      <th>2</th>\n",
       "      <th>3</th>\n",
       "      <th>4</th>\n",
       "      <th>5</th>\n",
       "      <th>6</th>\n",
       "      <th>7</th>\n",
       "      <th>8</th>\n",
       "      <th>9</th>\n",
       "    </tr>\n",
       "  </thead>\n",
       "  <tbody>\n",
       "    <tr>\n",
       "      <th>ri</th>\n",
       "      <td>4</td>\n",
       "      <td>1</td>\n",
       "      <td>6</td>\n",
       "      <td>2</td>\n",
       "      <td>1</td>\n",
       "      <td>7</td>\n",
       "      <td>5</td>\n",
       "      <td>1</td>\n",
       "      <td>4</td>\n",
       "      <td>8</td>\n",
       "    </tr>\n",
       "    <tr>\n",
       "      <th>ti</th>\n",
       "      <td>7</td>\n",
       "      <td>8</td>\n",
       "      <td>8</td>\n",
       "      <td>3</td>\n",
       "      <td>5</td>\n",
       "      <td>2</td>\n",
       "      <td>7</td>\n",
       "      <td>1</td>\n",
       "      <td>6</td>\n",
       "      <td>9</td>\n",
       "    </tr>\n",
       "  </tbody>\n",
       "</table>\n",
       "</div>"
      ],
      "text/plain": [
       "    0  1  2  3  4  5  6  7  8  9\n",
       "ri  4  1  6  2  1  7  5  1  4  8\n",
       "ti  7  8  8  3  5  2  7  1  6  9"
      ]
     },
     "execution_count": 2,
     "metadata": {},
     "output_type": "execute_result"
    }
   ],
   "source": [
    "rmax = 10\n",
    "tmax = 12\n",
    "tasks = 10\n",
    "\n",
    "df = pd.DataFrame({\n",
    "    'ti': np.random.randint(1, tmax, size=tasks),\n",
    "    'ri': np.random.randint(1, rmax, size=tasks)\n",
    "})\n",
    "df.T"
   ]
  },
  {
   "cell_type": "code",
   "execution_count": 3,
   "metadata": {},
   "outputs": [
    {
     "data": {
      "text/html": [
       "<div>\n",
       "<style scoped>\n",
       "    .dataframe tbody tr th:only-of-type {\n",
       "        vertical-align: middle;\n",
       "    }\n",
       "\n",
       "    .dataframe tbody tr th {\n",
       "        vertical-align: top;\n",
       "    }\n",
       "\n",
       "    .dataframe thead th {\n",
       "        text-align: right;\n",
       "    }\n",
       "</style>\n",
       "<table border=\"1\" class=\"dataframe\">\n",
       "  <thead>\n",
       "    <tr style=\"text-align: right;\">\n",
       "      <th></th>\n",
       "      <th>rank</th>\n",
       "      <th>time</th>\n",
       "      <th>tmax</th>\n",
       "    </tr>\n",
       "  </thead>\n",
       "  <tbody>\n",
       "    <tr>\n",
       "      <th>0</th>\n",
       "      <td>[8, 1]</td>\n",
       "      <td>[9, 8]</td>\n",
       "      <td>9</td>\n",
       "    </tr>\n",
       "    <tr>\n",
       "      <th>1</th>\n",
       "      <td>[6, 4]</td>\n",
       "      <td>[8, 7]</td>\n",
       "      <td>17</td>\n",
       "    </tr>\n",
       "    <tr>\n",
       "      <th>2</th>\n",
       "      <td>[5, 4, 1]</td>\n",
       "      <td>[7, 6, 5]</td>\n",
       "      <td>24</td>\n",
       "    </tr>\n",
       "    <tr>\n",
       "      <th>3</th>\n",
       "      <td>[2, 7, 1]</td>\n",
       "      <td>[3, 2, 1]</td>\n",
       "      <td>27</td>\n",
       "    </tr>\n",
       "  </tbody>\n",
       "</table>\n",
       "</div>"
      ],
      "text/plain": [
       "        rank       time  tmax\n",
       "0     [8, 1]     [9, 8]     9\n",
       "1     [6, 4]     [8, 7]    17\n",
       "2  [5, 4, 1]  [7, 6, 5]    24\n",
       "3  [2, 7, 1]  [3, 2, 1]    27"
      ]
     },
     "execution_count": 3,
     "metadata": {},
     "output_type": "execute_result"
    }
   ],
   "source": [
    "def nfdh(tasks, W):\n",
    "    df = tasks.sort_values(by='ti', ascending=False)\n",
    "    df = df.reset_index(drop=True)\n",
    "    \n",
    "    level = 0\n",
    "    time = [[df.ti[0]]]\n",
    "    rank = [[df.ri[0]]]\n",
    "    tmax = [df.ti[0]]\n",
    "        \n",
    "    for i, y in df[1:].iterrows():\n",
    "        if W - np.sum(rank[level]) >= y.ri:\n",
    "            rank[level].append(y.ri)\n",
    "            time[level].append(y.ti)\n",
    "        else:\n",
    "            level += 1\n",
    "            tmax.append(y.ti + tmax[level - 1])\n",
    "            time.append([y.ti])\n",
    "            rank.append([y.ri])\n",
    "    \n",
    "    return pd.DataFrame({\n",
    "        'rank': rank,\n",
    "        'time': time,\n",
    "        'tmax': tmax\n",
    "    }, columns=['rank', 'time', 'tmax'])\n",
    "\n",
    "table = nfdh(df, W=rmax)\n",
    "table"
   ]
  },
  {
   "cell_type": "code",
   "execution_count": 4,
   "metadata": {},
   "outputs": [
    {
     "data": {
      "image/png": "[encoded data removed]",
      "text/plain": [
       "<Figure size 864x648 with 1 Axes>"
      ]
     },
     "metadata": {
      "needs_background": "light"
     },
     "output_type": "display_data"
    },
    {
     "name": "stdout",
     "output_type": "stream",
     "text": [
      "epsilon = 0.12033195020746881\n"
     ]
    }
   ],
   "source": [
    "def visualize(table, rmax, title):\n",
    "    plt.rcParams.update({'font.size': 16})\n",
    "    fig, ax = plt.subplots(figsize=(12, 9))\n",
    "\n",
    "    ax.grid()\n",
    "    ax.set(title=title, xlabel='r, ранг', ylabel='t, время')\n",
    "    \n",
    "    tmax = np.max(table.tmax)\n",
    "    plt.xlim([0, rmax])\n",
    "    plt.ylim([0, tmax])\n",
    "\n",
    "    plt.xticks(np.arange(0, rmax+1))\n",
    "    plt.yticks(np.arange(0, tmax+1))\n",
    "\n",
    "    x, y = 0, 0\n",
    "    for level, row in table.iterrows():\n",
    "        for dx, dy in zip(row['rank'], row['time']):\n",
    "            ax.add_patch(plt.Rectangle((x, y), dx, dy, fc=np.random.rand(3)))\n",
    "            x += dx\n",
    "        x, y = 0, row.tmax\n",
    "    \n",
    "    plt.show()\n",
    "\n",
    "# это не надо\n",
    "# def to_S(table, rmax):\n",
    "#     x, y = 0, 0\n",
    "#     t_start = [0] * len(table.at[0, 'rank'])\n",
    "#     for i, v in enumerate(table.tmax[:-1], start=1):\n",
    "#         times = len(table.at[i, 'rank'])\n",
    "#         t_start += times * [table.at[i, 'tmax']]\n",
    "    \n",
    "#     proc_time = []\n",
    "#     for tasks in table['rank']:\n",
    "#         for t in tasks:\n",
    "#             proc_time.append(list(np.arange(1, t+1)))\n",
    "        \n",
    "#     return { 'ti': t_start, 'xi': proc_time }\n",
    "    \n",
    "\n",
    "visualize(table, rmax, 'Next-Fit Decreasing-Height (NFDH)')\n",
    "inf_t = np.sum(df.ri * df.ti) / rmax\n",
    "tmax = np.max(table.tmax)\n",
    "print('epsilon = {}'.format((tmax - inf_t) / inf_t))"
   ]
  },
  {
   "cell_type": "code",
   "execution_count": 5,
   "metadata": {},
   "outputs": [
    {
     "data": {
      "text/html": [
       "<div>\n",
       "<style scoped>\n",
       "    .dataframe tbody tr th:only-of-type {\n",
       "        vertical-align: middle;\n",
       "    }\n",
       "\n",
       "    .dataframe tbody tr th {\n",
       "        vertical-align: top;\n",
       "    }\n",
       "\n",
       "    .dataframe thead th {\n",
       "        text-align: right;\n",
       "    }\n",
       "</style>\n",
       "<table border=\"1\" class=\"dataframe\">\n",
       "  <thead>\n",
       "    <tr style=\"text-align: right;\">\n",
       "      <th></th>\n",
       "      <th>rank</th>\n",
       "      <th>time</th>\n",
       "      <th>tmax</th>\n",
       "    </tr>\n",
       "  </thead>\n",
       "  <tbody>\n",
       "    <tr>\n",
       "      <th>0</th>\n",
       "      <td>[8, 1, 1]</td>\n",
       "      <td>[9, 8, 5]</td>\n",
       "      <td>9</td>\n",
       "    </tr>\n",
       "    <tr>\n",
       "      <th>1</th>\n",
       "      <td>[6, 4]</td>\n",
       "      <td>[8, 7]</td>\n",
       "      <td>17</td>\n",
       "    </tr>\n",
       "    <tr>\n",
       "      <th>2</th>\n",
       "      <td>[5, 4, 1]</td>\n",
       "      <td>[7, 6, 1]</td>\n",
       "      <td>24</td>\n",
       "    </tr>\n",
       "    <tr>\n",
       "      <th>3</th>\n",
       "      <td>[2, 7]</td>\n",
       "      <td>[3, 2]</td>\n",
       "      <td>27</td>\n",
       "    </tr>\n",
       "  </tbody>\n",
       "</table>\n",
       "</div>"
      ],
      "text/plain": [
       "        rank       time  tmax\n",
       "0  [8, 1, 1]  [9, 8, 5]     9\n",
       "1     [6, 4]     [8, 7]    17\n",
       "2  [5, 4, 1]  [7, 6, 1]    24\n",
       "3     [2, 7]     [3, 2]    27"
      ]
     },
     "execution_count": 5,
     "metadata": {},
     "output_type": "execute_result"
    }
   ],
   "source": [
    "def ffdh(tasks, W):\n",
    "    df = tasks.sort_values(by='ti', ascending=False)\n",
    "    df = df.reset_index(drop=True)\n",
    "\n",
    "    level = 0\n",
    "    time = [[df.ti[0]]]\n",
    "    rank = [[df.ri[0]]]\n",
    "    tmax = [df.ti[0]]\n",
    "    \n",
    "    for i, y in df[1:].iterrows():\n",
    "        index = -1\n",
    "        for i in range(level + 1):\n",
    "            if W - np.sum(rank[i]) >= y.ri:\n",
    "                index = i\n",
    "                break\n",
    "        \n",
    "        if index != -1:\n",
    "            rank[index].append(y.ri)\n",
    "            time[index].append(y.ti)\n",
    "        else:\n",
    "            level += 1\n",
    "            tmax.append(y.ti + tmax[level - 1])\n",
    "            time.append([y.ti])\n",
    "            rank.append([y.ri])\n",
    "    \n",
    "    return pd.DataFrame({\n",
    "        'rank': rank,\n",
    "        'time': time,\n",
    "        'tmax': tmax\n",
    "    }, columns=['rank', 'time', 'tmax'])\n",
    "\n",
    "table = ffdh(df, W=rmax)\n",
    "table"
   ]
  },
  {
   "cell_type": "code",
   "execution_count": 6,
   "metadata": {},
   "outputs": [
    {
     "data": {
      "image/png": "[encoded data removed]",
      "text/plain": [
       "<Figure size 864x648 with 1 Axes>"
      ]
     },
     "metadata": {
      "needs_background": "light"
     },
     "output_type": "display_data"
    },
    {
     "name": "stdout",
     "output_type": "stream",
     "text": [
      "epsilon = 0.12033195020746881\n"
     ]
    }
   ],
   "source": [
    "visualize(table, rmax, 'First-Fit Decreasing-Height (FFDH)')\n",
    "inf_t = np.sum(df.ri * df.ti) / rmax\n",
    "tmax = np.max(table.tmax)\n",
    "print('epsilon = {}'.format((tmax - inf_t) / inf_t))"
   ]
  },
  {
   "cell_type": "code",
   "execution_count": 15,
   "metadata": {},
   "outputs": [
    {
     "data": {
      "text/html": [
       "<div>\n",
       "<style scoped>\n",
       "    .dataframe tbody tr th:only-of-type {\n",
       "        vertical-align: middle;\n",
       "    }\n",
       "\n",
       "    .dataframe tbody tr th {\n",
       "        vertical-align: top;\n",
       "    }\n",
       "\n",
       "    .dataframe thead th {\n",
       "        text-align: right;\n",
       "    }\n",
       "</style>\n",
       "<table border=\"1\" class=\"dataframe\">\n",
       "  <thead>\n",
       "    <tr style=\"text-align: right;\">\n",
       "      <th></th>\n",
       "      <th>0</th>\n",
       "      <th>1</th>\n",
       "      <th>2</th>\n",
       "      <th>3</th>\n",
       "      <th>4</th>\n",
       "      <th>5</th>\n",
       "      <th>6</th>\n",
       "      <th>7</th>\n",
       "      <th>8</th>\n",
       "      <th>9</th>\n",
       "      <th>...</th>\n",
       "      <th>490</th>\n",
       "      <th>491</th>\n",
       "      <th>492</th>\n",
       "      <th>493</th>\n",
       "      <th>494</th>\n",
       "      <th>495</th>\n",
       "      <th>496</th>\n",
       "      <th>497</th>\n",
       "      <th>498</th>\n",
       "      <th>499</th>\n",
       "    </tr>\n",
       "  </thead>\n",
       "  <tbody>\n",
       "    <tr>\n",
       "      <th>ri</th>\n",
       "      <td>434</td>\n",
       "      <td>38</td>\n",
       "      <td>539</td>\n",
       "      <td>509</td>\n",
       "      <td>805</td>\n",
       "      <td>292</td>\n",
       "      <td>733</td>\n",
       "      <td>320</td>\n",
       "      <td>998</td>\n",
       "      <td>414</td>\n",
       "      <td>...</td>\n",
       "      <td>1006</td>\n",
       "      <td>605</td>\n",
       "      <td>510</td>\n",
       "      <td>6</td>\n",
       "      <td>994</td>\n",
       "      <td>700</td>\n",
       "      <td>13</td>\n",
       "      <td>536</td>\n",
       "      <td>213</td>\n",
       "      <td>242</td>\n",
       "    </tr>\n",
       "    <tr>\n",
       "      <th>ti</th>\n",
       "      <td>60</td>\n",
       "      <td>75</td>\n",
       "      <td>93</td>\n",
       "      <td>33</td>\n",
       "      <td>87</td>\n",
       "      <td>14</td>\n",
       "      <td>16</td>\n",
       "      <td>1</td>\n",
       "      <td>13</td>\n",
       "      <td>88</td>\n",
       "      <td>...</td>\n",
       "      <td>95</td>\n",
       "      <td>93</td>\n",
       "      <td>5</td>\n",
       "      <td>71</td>\n",
       "      <td>81</td>\n",
       "      <td>84</td>\n",
       "      <td>78</td>\n",
       "      <td>72</td>\n",
       "      <td>2</td>\n",
       "      <td>12</td>\n",
       "    </tr>\n",
       "  </tbody>\n",
       "</table>\n",
       "<p>2 rows × 500 columns</p>\n",
       "</div>"
      ],
      "text/plain": [
       "    0    1    2    3    4    5    6    7    8    9    ...   490  491  492  \\\n",
       "ri  434   38  539  509  805  292  733  320  998  414  ...  1006  605  510   \n",
       "ti   60   75   93   33   87   14   16    1   13   88  ...    95   93    5   \n",
       "\n",
       "    493  494  495  496  497  498  499  \n",
       "ri    6  994  700   13  536  213  242  \n",
       "ti   71   81   84   78   72    2   12  \n",
       "\n",
       "[2 rows x 500 columns]"
      ]
     },
     "execution_count": 15,
     "metadata": {},
     "output_type": "execute_result"
    }
   ],
   "source": [
    "def get_tasks(rmax, tmax, n):\n",
    "    return pd.DataFrame({\n",
    "        'ti': np.random.randint(1, tmax, size=n),\n",
    "        'ri': np.random.randint(1, rmax, size=n)\n",
    "    })\n",
    "\n",
    "tmax = 100\n",
    "n = 1024\n",
    "m = np.arange(500, 1501, step=500)\n",
    "\n",
    "get_tasks(n, 100, m[0]).T"
   ]
  },
  {
   "cell_type": "markdown",
   "metadata": {},
   "source": [
    "![alt text](vs.png)"
   ]
  },
  {
   "cell_type": "markdown",
   "metadata": {},
   "source": [
    "![alt text](2DSP.png)"
   ]
  },
  {
   "cell_type": "code",
   "execution_count": null,
   "metadata": {},
   "outputs": [],
   "source": []
  }
 ],
 "metadata": {
  "kernelspec": {
   "display_name": "Python 3",
   "language": "python",
   "name": "python3"
  },
  "language_info": {
   "codemirror_mode": {
    "name": "ipython",
    "version": 3
   },
   "file_extension": ".py",
   "mimetype": "text/x-python",
   "name": "python",
   "nbconvert_exporter": "python",
   "pygments_lexer": "ipython3",
   "version": "3.5.2"
  }
 },
 "nbformat": 4,
 "nbformat_minor": 4
}
