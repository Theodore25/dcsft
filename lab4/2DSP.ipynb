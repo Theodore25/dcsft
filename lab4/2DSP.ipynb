{
 "cells": [
  {
   "cell_type": "markdown",
   "metadata": {},
   "source": [
    "##### 2-Dimensional Strip Packing"
   ]
  },
  {
   "cell_type": "code",
   "execution_count": 1,
   "metadata": {},
   "outputs": [],
   "source": [
    "import numpy as np\n",
    "import pandas as pd\n",
    "import matplotlib.pyplot as plt"
   ]
  },
  {
   "cell_type": "code",
   "execution_count": 2,
   "metadata": {},
   "outputs": [
    {
     "data": {
      "text/html": [
       "<div>\n",
       "<style scoped>\n",
       "    .dataframe tbody tr th:only-of-type {\n",
       "        vertical-align: middle;\n",
       "    }\n",
       "\n",
       "    .dataframe tbody tr th {\n",
       "        vertical-align: top;\n",
       "    }\n",
       "\n",
       "    .dataframe thead th {\n",
       "        text-align: right;\n",
       "    }\n",
       "</style>\n",
       "<table border=\"1\" class=\"dataframe\">\n",
       "  <thead>\n",
       "    <tr style=\"text-align: right;\">\n",
       "      <th></th>\n",
       "      <th>0</th>\n",
       "      <th>1</th>\n",
       "      <th>2</th>\n",
       "      <th>3</th>\n",
       "      <th>4</th>\n",
       "      <th>5</th>\n",
       "      <th>6</th>\n",
       "      <th>7</th>\n",
       "      <th>8</th>\n",
       "      <th>9</th>\n",
       "      <th>10</th>\n",
       "      <th>11</th>\n",
       "      <th>12</th>\n",
       "      <th>13</th>\n",
       "      <th>14</th>\n",
       "    </tr>\n",
       "  </thead>\n",
       "  <tbody>\n",
       "    <tr>\n",
       "      <th>ri</th>\n",
       "      <td>2</td>\n",
       "      <td>3</td>\n",
       "      <td>1</td>\n",
       "      <td>1</td>\n",
       "      <td>2</td>\n",
       "      <td>1</td>\n",
       "      <td>1</td>\n",
       "      <td>2</td>\n",
       "      <td>2</td>\n",
       "      <td>2</td>\n",
       "      <td>1</td>\n",
       "      <td>1</td>\n",
       "      <td>3</td>\n",
       "      <td>1</td>\n",
       "      <td>3</td>\n",
       "    </tr>\n",
       "    <tr>\n",
       "      <th>ti</th>\n",
       "      <td>1</td>\n",
       "      <td>10</td>\n",
       "      <td>9</td>\n",
       "      <td>3</td>\n",
       "      <td>5</td>\n",
       "      <td>7</td>\n",
       "      <td>2</td>\n",
       "      <td>7</td>\n",
       "      <td>3</td>\n",
       "      <td>8</td>\n",
       "      <td>2</td>\n",
       "      <td>4</td>\n",
       "      <td>10</td>\n",
       "      <td>3</td>\n",
       "      <td>9</td>\n",
       "    </tr>\n",
       "  </tbody>\n",
       "</table>\n",
       "</div>"
      ],
      "text/plain": [
       "    0   1   2   3   4   5   6   7   8   9   10  11  12  13  14\n",
       "ri   2   3   1   1   2   1   1   2   2   2   1   1   3   1   3\n",
       "ti   1  10   9   3   5   7   2   7   3   8   2   4  10   3   9"
      ]
     },
     "execution_count": 2,
     "metadata": {},
     "output_type": "execute_result"
    }
   ],
   "source": [
    "rmax = 10\n",
    "tmax = 12\n",
    "tasks = 15\n",
    "\n",
    "df = pd.DataFrame({\n",
    "    'ti': np.random.randint(1, tmax, size=tasks),\n",
    "    'ri': np.random.randint(1, 4, size=tasks)\n",
    "})\n",
    "df.T"
   ]
  },
  {
   "cell_type": "code",
   "execution_count": 3,
   "metadata": {},
   "outputs": [
    {
     "data": {
      "text/html": [
       "<div>\n",
       "<style scoped>\n",
       "    .dataframe tbody tr th:only-of-type {\n",
       "        vertical-align: middle;\n",
       "    }\n",
       "\n",
       "    .dataframe tbody tr th {\n",
       "        vertical-align: top;\n",
       "    }\n",
       "\n",
       "    .dataframe thead th {\n",
       "        text-align: right;\n",
       "    }\n",
       "</style>\n",
       "<table border=\"1\" class=\"dataframe\">\n",
       "  <thead>\n",
       "    <tr style=\"text-align: right;\">\n",
       "      <th></th>\n",
       "      <th>rank</th>\n",
       "      <th>time</th>\n",
       "      <th>tmax</th>\n",
       "    </tr>\n",
       "  </thead>\n",
       "  <tbody>\n",
       "    <tr>\n",
       "      <th>0</th>\n",
       "      <td>[3, 3, 1, 3]</td>\n",
       "      <td>[10, 10, 9, 9]</td>\n",
       "      <td>10</td>\n",
       "    </tr>\n",
       "    <tr>\n",
       "      <th>1</th>\n",
       "      <td>[2, 1, 2, 2, 1, 1]</td>\n",
       "      <td>[8, 7, 7, 5, 4, 3]</td>\n",
       "      <td>18</td>\n",
       "    </tr>\n",
       "    <tr>\n",
       "      <th>2</th>\n",
       "      <td>[2, 1, 1, 1, 2]</td>\n",
       "      <td>[3, 3, 2, 2, 1]</td>\n",
       "      <td>21</td>\n",
       "    </tr>\n",
       "  </tbody>\n",
       "</table>\n",
       "</div>"
      ],
      "text/plain": [
       "                 rank                time  tmax\n",
       "0        [3, 3, 1, 3]      [10, 10, 9, 9]    10\n",
       "1  [2, 1, 2, 2, 1, 1]  [8, 7, 7, 5, 4, 3]    18\n",
       "2     [2, 1, 1, 1, 2]     [3, 3, 2, 2, 1]    21"
      ]
     },
     "execution_count": 3,
     "metadata": {},
     "output_type": "execute_result"
    }
   ],
   "source": [
    "def nfdh(tasks, W):\n",
    "    df = tasks.sort_values(by='ti', ascending=False)\n",
    "    df = df.reset_index(drop=True)\n",
    "    \n",
    "    level = 0\n",
    "    time = [[df.ti[0]]]\n",
    "    rank = [[df.ri[0]]]\n",
    "    tmax = [df.ti[0]]\n",
    "        \n",
    "    for i, y in df[1:].iterrows():\n",
    "        if W - np.sum(rank[level]) >= y.ri:\n",
    "            rank[level].append(y.ri)\n",
    "            time[level].append(y.ti)\n",
    "        else:\n",
    "            level += 1\n",
    "            tmax.append(y.ti + tmax[level - 1])\n",
    "            time.append([y.ti])\n",
    "            rank.append([y.ri])\n",
    "    \n",
    "    return pd.DataFrame({\n",
    "        'rank': rank,\n",
    "        'time': time,\n",
    "        'tmax': tmax\n",
    "    }, columns=['rank', 'time', 'tmax'])\n",
    "\n",
    "table = nfdh(df, W=rmax)\n",
    "table"
   ]
  },
  {
   "cell_type": "code",
   "execution_count": 4,
   "metadata": {},
   "outputs": [
    {
     "data": {
      "image/png": "[encoded data removed]",
      "text/plain": [
       "<Figure size 864x648 with 1 Axes>"
      ]
     },
     "metadata": {
      "needs_background": "light"
     },
     "output_type": "display_data"
    },
    {
     "name": "stdout",
     "output_type": "stream",
     "text": [
      "epsilon = 0.2727272727272727\n"
     ]
    }
   ],
   "source": [
    "def visualize(table, rmax, title):\n",
    "    plt.rcParams.update({'font.size': 16})\n",
    "    fig, ax = plt.subplots(figsize=(12, 9))\n",
    "\n",
    "    ax.grid()\n",
    "    ax.set(title=title, xlabel='r, ранг', ylabel='t, время')\n",
    "    \n",
    "    tmax = np.max(table.tmax)\n",
    "    plt.xlim([0, rmax])\n",
    "    plt.ylim([0, tmax])\n",
    "\n",
    "    plt.xticks(np.arange(0, rmax+1))\n",
    "    plt.yticks(np.arange(0, tmax+1))\n",
    "\n",
    "    x, y = 0, 0\n",
    "    for level, row in table.iterrows():\n",
    "        for dx, dy in zip(row['rank'], row['time']):\n",
    "            ax.add_patch(plt.Rectangle((x, y), dx, dy, fc=np.random.rand(3)))\n",
    "            x += dx\n",
    "        x, y = 0, row.tmax\n",
    "    \n",
    "    plt.show()\n",
    "\n",
    "visualize(table, rmax, 'Next-Fit Fecreasing-Height (NFDH)')\n",
    "sup_t = np.sum(df.ri * df.ti) / rmax\n",
    "tmax = np.max(table.tmax)\n",
    "print('epsilon = {}'.format((tmax - sup_t) / sup_t))"
   ]
  },
  {
   "cell_type": "code",
   "execution_count": 5,
   "metadata": {},
   "outputs": [
    {
     "data": {
      "text/html": [
       "<div>\n",
       "<style scoped>\n",
       "    .dataframe tbody tr th:only-of-type {\n",
       "        vertical-align: middle;\n",
       "    }\n",
       "\n",
       "    .dataframe tbody tr th {\n",
       "        vertical-align: top;\n",
       "    }\n",
       "\n",
       "    .dataframe thead th {\n",
       "        text-align: right;\n",
       "    }\n",
       "</style>\n",
       "<table border=\"1\" class=\"dataframe\">\n",
       "  <thead>\n",
       "    <tr style=\"text-align: right;\">\n",
       "      <th></th>\n",
       "      <th>rank</th>\n",
       "      <th>time</th>\n",
       "      <th>tmax</th>\n",
       "    </tr>\n",
       "  </thead>\n",
       "  <tbody>\n",
       "    <tr>\n",
       "      <th>0</th>\n",
       "      <td>[3, 3, 1, 3]</td>\n",
       "      <td>[10, 10, 9, 9]</td>\n",
       "      <td>10</td>\n",
       "    </tr>\n",
       "    <tr>\n",
       "      <th>1</th>\n",
       "      <td>[2, 1, 2, 2, 1, 1, 1]</td>\n",
       "      <td>[8, 7, 7, 5, 4, 3, 3]</td>\n",
       "      <td>18</td>\n",
       "    </tr>\n",
       "    <tr>\n",
       "      <th>2</th>\n",
       "      <td>[2, 1, 1, 2]</td>\n",
       "      <td>[3, 2, 2, 1]</td>\n",
       "      <td>21</td>\n",
       "    </tr>\n",
       "  </tbody>\n",
       "</table>\n",
       "</div>"
      ],
      "text/plain": [
       "                    rank                   time  tmax\n",
       "0           [3, 3, 1, 3]         [10, 10, 9, 9]    10\n",
       "1  [2, 1, 2, 2, 1, 1, 1]  [8, 7, 7, 5, 4, 3, 3]    18\n",
       "2           [2, 1, 1, 2]           [3, 2, 2, 1]    21"
      ]
     },
     "execution_count": 5,
     "metadata": {},
     "output_type": "execute_result"
    }
   ],
   "source": [
    "def ffdh(tasks, W):\n",
    "    df = tasks.sort_values(by='ti', ascending=False)\n",
    "    df = df.reset_index(drop=True)\n",
    "\n",
    "    level = 0\n",
    "    time = [[df.ti[0]]]\n",
    "    rank = [[df.ri[0]]]\n",
    "    tmax = [df.ti[0]]\n",
    "    \n",
    "    for i, y in df[1:].iterrows():\n",
    "        index = -1\n",
    "        for i in range(level + 1):\n",
    "            if W - np.sum(rank[i]) >= y.ri:\n",
    "                index = i\n",
    "                break\n",
    "        \n",
    "        if index != -1:\n",
    "            rank[index].append(y.ri)\n",
    "            time[index].append(y.ti)\n",
    "        else:\n",
    "            level += 1\n",
    "            tmax.append(y.ti + tmax[level - 1])\n",
    "            time.append([y.ti])\n",
    "            rank.append([y.ri])\n",
    "    \n",
    "    return pd.DataFrame({\n",
    "        'rank': rank,\n",
    "        'time': time,\n",
    "        'tmax': tmax\n",
    "    }, columns=['rank', 'time', 'tmax'])\n",
    "\n",
    "table = ffdh(df, W=rmax)\n",
    "table"
   ]
  },
  {
   "cell_type": "code",
   "execution_count": 6,
   "metadata": {},
   "outputs": [
    {
     "data": {
      "image/png": "[encoded data removed]",
      "text/plain": [
       "<Figure size 864x648 with 1 Axes>"
      ]
     },
     "metadata": {
      "needs_background": "light"
     },
     "output_type": "display_data"
    },
    {
     "name": "stdout",
     "output_type": "stream",
     "text": [
      "epsilon = 0.2727272727272727\n"
     ]
    }
   ],
   "source": [
    "visualize(table, rmax, 'First-Fit Decreasing-Height (FFDH)')\n",
    "sup_t = np.sum(df.ri * df.ti) / rmax\n",
    "tmax = np.max(table.tmax)\n",
    "print('epsilon = {}'.format((tmax - sup_t) / sup_t))"
   ]
  },
  {
   "cell_type": "code",
   "execution_count": null,
   "metadata": {},
   "outputs": [],
   "source": []
  }
 ],
 "metadata": {
  "kernelspec": {
   "display_name": "Python 3",
   "language": "python",
   "name": "python3"
  },
  "language_info": {
   "codemirror_mode": {
    "name": "ipython",
    "version": 3
   },
   "file_extension": ".py",
   "mimetype": "text/x-python",
   "name": "python",
   "nbconvert_exporter": "python",
   "pygments_lexer": "ipython3",
   "version": "3.5.2"
  }
 },
 "nbformat": 4,
 "nbformat_minor": 4
}
